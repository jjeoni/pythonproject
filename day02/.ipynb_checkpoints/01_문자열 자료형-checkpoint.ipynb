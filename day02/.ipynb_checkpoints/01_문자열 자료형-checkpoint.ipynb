{
 "cells": [
  {
   "cell_type": "markdown",
   "id": "0796686a-6dbb-4957-bd2d-8faa4758227c",
   "metadata": {},
   "source": [
    "# 문자열 나누기, 합치기, 소문자, 대문자"
   ]
  },
  {
   "cell_type": "code",
   "execution_count": 32,
   "id": "c001bc72-66eb-4f37-8ea7-ee6eec28bec6",
   "metadata": {},
   "outputs": [],
   "source": [
    "a = 'h e l l o, hi, hello'"
   ]
  },
  {
   "cell_type": "code",
   "execution_count": 33,
   "id": "dc0603f5-2db0-4c29-85b7-ce762419d704",
   "metadata": {},
   "outputs": [
    {
     "data": {
      "text/plain": [
       "str"
      ]
     },
     "execution_count": 33,
     "metadata": {},
     "output_type": "execute_result"
    }
   ],
   "source": [
    "type(a)"
   ]
  },
  {
   "cell_type": "code",
   "execution_count": 34,
   "id": "623f4b02-d06f-46f6-a93c-f83fd6189943",
   "metadata": {},
   "outputs": [],
   "source": [
    "b = a.split(sep=',') # 문자열 나누기"
   ]
  },
  {
   "cell_type": "code",
   "execution_count": 35,
   "id": "a2ac8295-f420-48fc-be6d-6be34852b45e",
   "metadata": {},
   "outputs": [
    {
     "data": {
      "text/plain": [
       "['h e l l o', ' hi', ' hello']"
      ]
     },
     "execution_count": 35,
     "metadata": {},
     "output_type": "execute_result"
    }
   ],
   "source": [
    "b"
   ]
  },
  {
   "cell_type": "code",
   "execution_count": 36,
   "id": "22691281-ab05-44e9-b36b-cc7fd1b7a575",
   "metadata": {},
   "outputs": [
    {
     "data": {
      "text/plain": [
       "'h e l l o,  hi,  hello'"
      ]
     },
     "execution_count": 36,
     "metadata": {},
     "output_type": "execute_result"
    }
   ],
   "source": [
    "', '.join(b) # 문자열 합치기"
   ]
  },
  {
   "cell_type": "code",
   "execution_count": 37,
   "id": "1cc042f4-0976-4cbc-950a-a3b55ad87cc1",
   "metadata": {},
   "outputs": [],
   "source": [
    "a1 = a.upper() # 소문자 -> 대문자"
   ]
  },
  {
   "cell_type": "code",
   "execution_count": 38,
   "id": "36e390a5-8b80-4502-8b7e-8d178717a23d",
   "metadata": {},
   "outputs": [
    {
     "data": {
      "text/plain": [
       "'H E L L O, HI, HELLO'"
      ]
     },
     "execution_count": 38,
     "metadata": {},
     "output_type": "execute_result"
    }
   ],
   "source": [
    "a1"
   ]
  },
  {
   "cell_type": "code",
   "execution_count": 39,
   "id": "de12d23c-fde7-4238-a4f3-34024e13ecbc",
   "metadata": {},
   "outputs": [
    {
     "data": {
      "text/plain": [
       "'h e l l o, hi, hello'"
      ]
     },
     "execution_count": 39,
     "metadata": {},
     "output_type": "execute_result"
    }
   ],
   "source": [
    "a1.lower() # 대문자 -> 소문자"
   ]
  },
  {
   "cell_type": "code",
   "execution_count": 40,
   "id": "6da7aae0-e626-4405-9d73-c4bf5be8d897",
   "metadata": {
    "tags": []
   },
   "outputs": [
    {
     "data": {
      "text/plain": [
       "'H e l l o, hi, hello'"
      ]
     },
     "execution_count": 40,
     "metadata": {},
     "output_type": "execute_result"
    }
   ],
   "source": [
    "a1.capitalize() # 첫 글자만 대문자"
   ]
  },
  {
   "cell_type": "markdown",
   "id": "d24d2377-1241-4f15-90ec-852bb1bef082",
   "metadata": {},
   "source": [
    "# 공백 지우기"
   ]
  },
  {
   "cell_type": "code",
   "execution_count": 19,
   "id": "7fc5f13b-b3a2-46c3-ba98-a326f65f8d85",
   "metadata": {},
   "outputs": [],
   "source": [
    "a = \" hi \""
   ]
  },
  {
   "cell_type": "code",
   "execution_count": 20,
   "id": "10933c06-198c-49b2-bf73-6cb5d6da73d9",
   "metadata": {},
   "outputs": [
    {
     "data": {
      "text/plain": [
       "' hi '"
      ]
     },
     "execution_count": 20,
     "metadata": {},
     "output_type": "execute_result"
    }
   ],
   "source": [
    "a"
   ]
  },
  {
   "cell_type": "code",
   "execution_count": 24,
   "id": "0fcd075c-dffa-4b3c-8b25-dd62f7f21893",
   "metadata": {},
   "outputs": [
    {
     "data": {
      "text/plain": [
       "'hi'"
      ]
     },
     "execution_count": 24,
     "metadata": {},
     "output_type": "execute_result"
    }
   ],
   "source": [
    "a.strip() # 양쪽 공백 지우기"
   ]
  },
  {
   "cell_type": "code",
   "execution_count": 25,
   "id": "319fde8b-069a-4f85-90c7-cb783874dafe",
   "metadata": {},
   "outputs": [
    {
     "data": {
      "text/plain": [
       "'hi '"
      ]
     },
     "execution_count": 25,
     "metadata": {},
     "output_type": "execute_result"
    }
   ],
   "source": [
    "a.lstrip() # 왼쪽 공백 지우기"
   ]
  },
  {
   "cell_type": "code",
   "execution_count": 26,
   "id": "f9f94af0-9c1b-417a-8383-a20d6be12cd3",
   "metadata": {},
   "outputs": [
    {
     "data": {
      "text/plain": [
       "' hi'"
      ]
     },
     "execution_count": 26,
     "metadata": {},
     "output_type": "execute_result"
    }
   ],
   "source": [
    "a.rstrip() # 오른쪽 공백 지우기"
   ]
  },
  {
   "cell_type": "code",
   "execution_count": 41,
   "id": "0861295c-9ddc-4a8b-bb09-2d84ab47f2f2",
   "metadata": {},
   "outputs": [],
   "source": [
    "a = \"Life is too short\""
   ]
  },
  {
   "cell_type": "code",
   "execution_count": 44,
   "id": "8b62cfc9-9af2-4fe1-b15c-327c65b4f08a",
   "metadata": {},
   "outputs": [
    {
     "data": {
      "text/plain": [
       "'Life is short'"
      ]
     },
     "execution_count": 44,
     "metadata": {},
     "output_type": "execute_result"
    }
   ],
   "source": [
    "a.replace('too ', '') # 문자열 바꾸는 함수이지만 특정 문자열을 삭제할 때도 사용함."
   ]
  },
  {
   "cell_type": "code",
   "execution_count": null,
   "id": "5c05917e-ce0b-4be3-9419-8572a57bd4d2",
   "metadata": {},
   "outputs": [],
   "source": []
  }
 ],
 "metadata": {
  "kernelspec": {
   "display_name": "Python 3 (ipykernel)",
   "language": "python",
   "name": "python3"
  },
  "language_info": {
   "codemirror_mode": {
    "name": "ipython",
    "version": 3
   },
   "file_extension": ".py",
   "mimetype": "text/x-python",
   "name": "python",
   "nbconvert_exporter": "python",
   "pygments_lexer": "ipython3",
   "version": "3.9.7"
  }
 },
 "nbformat": 4,
 "nbformat_minor": 5
}
