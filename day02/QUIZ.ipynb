{
 "cells": [
  {
   "cell_type": "markdown",
   "id": "e902ebb4-0bae-49e9-8a7f-46509e87d332",
   "metadata": {},
   "source": [
    "# Quiz01"
   ]
  },
  {
   "cell_type": "raw",
   "id": "9ae91eb1-caaa-4d4b-944b-a80392770d58",
   "metadata": {},
   "source": [
    "주민등록번호 14자리를 입력받아서 성별을 체크합니다.\n",
    "프로그램 종료는 (q,Q)를 누를 때까지 반복처리합니다.\n",
    "입력예 : 123456-1234567\n",
    "조건처리 : 길이값 체크, \n",
    "           성별 체크 (가능값 : 1,2,3,4),\n",
    "출력 :  여성입니다 or 남성입니다."
   ]
  },
  {
   "cell_type": "code",
   "execution_count": 23,
   "id": "da9c2bf2-858e-4608-9e13-36c7a0104a39",
   "metadata": {
    "tags": []
   },
   "outputs": [
    {
     "name": "stdin",
     "output_type": "stream",
     "text": [
      "주민등록번호 입력(14자리, 종료:q,Q) >>>  123456-5897612\n"
     ]
    }
   ],
   "source": [
    "# 내 코드\n",
    "num = input('주민등록번호 입력(14자리, 종료:q,Q) >>> ')\n",
    "if len(num) == 14:\n",
    "    if num[7] == '1' or num[7] == '3':\n",
    "        print('남성입니다.')\n",
    "    elif num[7] == '2' or num[7] == '4':\n",
    "        print('여성입니다.')\n",
    "else:\n",
    "    print('입력 문자의 길이가 안 맞거나, 성별값의 범위가 아닙니다.')\n",
    "    \n",
    "# 내가 코드를 완성하지 못한 이유 : 프로그램 종료 조건문을 생각못함, 주민등록번호를 14자리 입력했을 시 and를 생각못함"
   ]
  },
  {
   "cell_type": "code",
   "execution_count": 22,
   "id": "f16b9603-9d8b-4e1a-8343-cdf0855f124d",
   "metadata": {},
   "outputs": [
    {
     "name": "stdin",
     "output_type": "stream",
     "text": [
      "주민등록번호 입력(14자리, 종료:q,Q) >>>  Q\n"
     ]
    },
    {
     "name": "stdout",
     "output_type": "stream",
     "text": [
      "프로그램 종료\n"
     ]
    }
   ],
   "source": [
    "# 강사님 코드\n",
    "while True:\n",
    "    num = input('주민등록번호 입력(14자리, 종료:q,Q) >>> ')\n",
    "    if len(num) == 1 and num.lower() == 'q':\n",
    "        print('프로그램 종료')\n",
    "        break\n",
    "    elif len(num) == 14 and num[6] == '-' and num[7] in ['1', '2', '3', '4']:\n",
    "        if num[7] in ['1', '3']:\n",
    "            print('남성입니다.')\n",
    "        else:\n",
    "            print('여성입니다.')\n",
    "    else:\n",
    "        print('입력 문자의 길이가 안 맞거나, 성별값의 범위가 아닙니다.')"
   ]
  },
  {
   "cell_type": "markdown",
   "id": "59d24a63-35e0-409d-bf8a-32b252a57d04",
   "metadata": {},
   "source": [
    "# Quiz02"
   ]
  },
  {
   "cell_type": "raw",
   "id": "3c8dd1b1-9a75-435c-8c70-128f2c5ce562",
   "metadata": {},
   "source": [
    "로또 번호 추출기\n",
    "총 5세트의 번호를 추출합니다.\n",
    "한 세트당 번호는 6개 입니다.\n",
    "번호는 1~45 사이의 숫자만 가능합니다.\n",
    "번호는 중복되면 안됩니다.\n",
    "번호를 출력시 오름차순으로 정렬해서 출력합니다."
   ]
  },
  {
   "cell_type": "code",
   "execution_count": 24,
   "id": "32a43f0d-aa30-4cfb-85ba-32b9fde98d6b",
   "metadata": {},
   "outputs": [],
   "source": [
    "# 랜덤으로 번호 추출\n",
    "import random"
   ]
  },
  {
   "cell_type": "code",
   "execution_count": 177,
   "id": "8187c70a-8d05-4f71-b9c5-949ad6826fad",
   "metadata": {},
   "outputs": [
    {
     "name": "stdout",
     "output_type": "stream",
     "text": [
      "[15, 20, 26, 27, 38, 40]\n",
      "[26, 27, 30, 31, 36, 45]\n",
      "[3, 7, 20, 27, 33, 37]\n",
      "[8, 19, 21, 22, 33, 39]\n",
      "[2, 4, 17, 19, 30, 43]\n"
     ]
    }
   ],
   "source": [
    "# 내 코드\n",
    "for i in range(5):\n",
    "    lotto = []\n",
    "    for x in range(6):\n",
    "        num = random.randint(1, 45)\n",
    "        while num in lotto:\n",
    "            num = random.randint(1, 45)\n",
    "        lotto.append(num)\n",
    "    print(str(sorted(lotto)))\n",
    "    \n",
    "# 중복없이 할 경우 while문을 사용할 수 있음\n",
    "# 5세트로 뽑을 경우 어떻게?"
   ]
  },
  {
   "cell_type": "code",
   "execution_count": 173,
   "id": "c85685b1-df81-424d-a98a-21fb2536c8bf",
   "metadata": {},
   "outputs": [
    {
     "name": "stdout",
     "output_type": "stream",
     "text": [
      "[13, 18, 24, 31, 39, 42]\n",
      "[20, 26, 27, 28, 29, 34]\n",
      "[8, 11, 16, 33, 43, 45]\n",
      "[2, 15, 24, 27, 28, 31]\n",
      "[3, 11, 31, 34, 37, 38]\n"
     ]
    }
   ],
   "source": [
    "# 강사님 코드\n",
    "import random\n",
    "for i in range(5):\n",
    "    lotto = [0,0,0,0,0,0]\n",
    "    for x in range(6):\n",
    "        num = 0\n",
    "        while (num in lotto):\n",
    "            num = random.randint(1, 45)\n",
    "        lotto[x] = num\n",
    "    lotto.sort()\n",
    "    print(lotto)"
   ]
  },
  {
   "cell_type": "code",
   "execution_count": 190,
   "id": "79d15ba3-8786-49fa-8f9a-bb4f6b4721ed",
   "metadata": {},
   "outputs": [
    {
     "name": "stdout",
     "output_type": "stream",
     "text": [
      "[1, 8, 23, 24, 34, 37]\n",
      "[4, 17, 25, 27, 28, 40]\n",
      "[1, 3, 27, 36, 40, 42]\n",
      "[7, 12, 13, 28, 34, 35]\n",
      "[4, 10, 11, 19, 21, 26]\n",
      "[2, 11, 12, 20, 31, 33]\n"
     ]
    }
   ],
   "source": [
    "# random.sample(범위, k) : 범위 안에서 k개의 자료를 중복없이 랜덤으로 추출\n",
    "for i in range(6):\n",
    "    lotto = random.sample(range(1,46),6) \n",
    "    lotto.sort()\n",
    "    print(lotto)"
   ]
  },
  {
   "cell_type": "markdown",
   "id": "dcd8bc1c-effa-41b6-9d59-abab818da929",
   "metadata": {},
   "source": [
    "# Quiz03"
   ]
  },
  {
   "cell_type": "raw",
   "id": "0a9c7e67-6fd5-41cf-9e33-b5f69badd900",
   "metadata": {
    "tags": []
   },
   "source": [
    "커피메뉴 관리프로그램\n",
    "데이터 저장은 딕셔너리로..{'메뉴명' : 가격, 'coffee':2000}\n",
    "프로그램에서 사용할 메뉴\n",
    "1. 메뉴입력 2. 메뉴수정 3. 메뉴목록 4. 메뉴삭제 5. 프로그램 종료\n",
    "- 1. 메뉴입력 : 메뉴명과 가격을 입력받아서 저장\n",
    "- 2. 메뉴수정 : 메뉴명을 확인하고, 있는 메뉴에 가격을 입력받아 수정\n",
    "- 3. 메뉴목록 : 저장된 메뉴명과 가격을 출력(천단위 구분 기호 표기), 메뉴명 순서대로 출력\n",
    "- 4. 메뉴삭제 : 메뉴명을 확인하고, 있는 메뉴에서 삭제\n",
    "- 5. 프로그램 종료 : 프로그램을 종료하는 메시지 출력하고 종료\n",
    "- 메뉴1~5까지만 입력받고 다른 값이 들어오면 관련 에러메세지를 출력한다.\n",
    "- 가격은 숫자로 입력해야됨\n",
    "* while = True "
   ]
  },
  {
   "cell_type": "code",
   "execution_count": 191,
   "id": "14ba95fe-d15d-4484-8e74-0849d9922aaf",
   "metadata": {
    "jupyter": {
     "source_hidden": true
    },
    "tags": []
   },
   "outputs": [],
   "source": [
    "# 딕셔너리 정렬\n",
    "# sorted()\n",
    "list1=[5,2,3,1,4]\n",
    "dict1={'아아':3000, '라떼':4000, '코코아':3500}"
   ]
  },
  {
   "cell_type": "code",
   "execution_count": 194,
   "id": "08765ae9-a03a-43f7-a3b5-a89f9ef4e8fa",
   "metadata": {
    "collapsed": true,
    "jupyter": {
     "outputs_hidden": true,
     "source_hidden": true
    },
    "tags": []
   },
   "outputs": [
    {
     "data": {
      "text/plain": [
       "[1, 2, 3, 4, 5]"
      ]
     },
     "execution_count": 194,
     "metadata": {},
     "output_type": "execute_result"
    }
   ],
   "source": [
    "sorted(list1)"
   ]
  },
  {
   "cell_type": "code",
   "execution_count": 204,
   "id": "fbe0516d-b317-4f71-9330-b3c85a4a3f58",
   "metadata": {
    "collapsed": true,
    "jupyter": {
     "outputs_hidden": true,
     "source_hidden": true
    },
    "tags": []
   },
   "outputs": [
    {
     "data": {
      "text/plain": [
       "['라떼', '아아', '코코아']"
      ]
     },
     "execution_count": 204,
     "metadata": {},
     "output_type": "execute_result"
    }
   ],
   "source": [
    "sorted(dict1)"
   ]
  },
  {
   "cell_type": "code",
   "execution_count": 208,
   "id": "016dea7f-e98f-463d-a76a-d89213145ff1",
   "metadata": {
    "collapsed": true,
    "jupyter": {
     "outputs_hidden": true,
     "source_hidden": true
    },
    "tags": []
   },
   "outputs": [
    {
     "data": {
      "text/plain": [
       "dict_items([('아아', 3000), ('라떼', 4000), ('코코아', 3500)])"
      ]
     },
     "execution_count": 208,
     "metadata": {},
     "output_type": "execute_result"
    }
   ],
   "source": [
    "dict1.items()"
   ]
  },
  {
   "cell_type": "code",
   "execution_count": 210,
   "id": "6b1536c1-1458-44fc-950a-f457f8c32d06",
   "metadata": {
    "collapsed": true,
    "jupyter": {
     "outputs_hidden": true,
     "source_hidden": true
    },
    "tags": []
   },
   "outputs": [
    {
     "data": {
      "text/plain": [
       "[('아아', 3000), ('코코아', 3500), ('라떼', 4000)]"
      ]
     },
     "execution_count": 210,
     "metadata": {},
     "output_type": "execute_result"
    }
   ],
   "source": [
    "sorted(dict1.items(), key=lambda data:data[1])"
   ]
  },
  {
   "cell_type": "code",
   "execution_count": 216,
   "id": "6a697e4a-b81a-4b02-83c8-4bedaf2e98c7",
   "metadata": {
    "jupyter": {
     "source_hidden": true
    },
    "tags": []
   },
   "outputs": [],
   "source": [
    "student_tu = [('john', 'A', 15),\n",
    "              ('jane', 'B', 12),\n",
    "              ('dave', 'B', 10)]"
   ]
  },
  {
   "cell_type": "code",
   "execution_count": 213,
   "id": "7a230fb2-761c-42bb-bf3d-dd5351709d66",
   "metadata": {
    "collapsed": true,
    "jupyter": {
     "outputs_hidden": true,
     "source_hidden": true
    },
    "tags": []
   },
   "outputs": [
    {
     "data": {
      "text/plain": [
       "[('dave', 'B', 10), ('jane', 'B', 12), ('john', 'A', 15)]"
      ]
     },
     "execution_count": 213,
     "metadata": {},
     "output_type": "execute_result"
    }
   ],
   "source": [
    "sorted(student_tu)"
   ]
  },
  {
   "cell_type": "code",
   "execution_count": 215,
   "id": "a1368c69-639c-4dee-9b72-99ca60705c0b",
   "metadata": {
    "collapsed": true,
    "jupyter": {
     "outputs_hidden": true,
     "source_hidden": true
    },
    "tags": []
   },
   "outputs": [
    {
     "data": {
      "text/plain": [
       "[('john', 'A', 15), ('jane', 'B', 12), ('dave', 'B', 10)]"
      ]
     },
     "execution_count": 215,
     "metadata": {},
     "output_type": "execute_result"
    }
   ],
   "source": [
    "sorted(student_tu, key = lambda x:x[2], reverse = True)"
   ]
  },
  {
   "cell_type": "code",
   "execution_count": 290,
   "id": "f0d95e76-fb3a-4f10-89d4-4ba941427fa5",
   "metadata": {},
   "outputs": [
    {
     "name": "stdin",
     "output_type": "stream",
     "text": [
      "\n",
      "--------------------------------------------------------\n",
      "1.메뉴입력 2.메뉴수정 3.메뉴목록 4.메뉴삭제 5.프로그램 종료 '   \n",
      "--------------------------------------------------------\n",
      "                메뉴 선택 >>>  3\n"
     ]
    },
    {
     "name": "stdout",
     "output_type": "stream",
     "text": [
      "----------------------menu----------------------\n",
      "아아 : 3,000\n",
      "코코아 : 3,500\n",
      "라떼 : 4,000\n"
     ]
    },
    {
     "name": "stdin",
     "output_type": "stream",
     "text": [
      "\n",
      "--------------------------------------------------------\n",
      "1.메뉴입력 2.메뉴수정 3.메뉴목록 4.메뉴삭제 5.프로그램 종료 '   \n",
      "--------------------------------------------------------\n",
      "                메뉴 선택 >>>  5\n"
     ]
    },
    {
     "name": "stdout",
     "output_type": "stream",
     "text": [
      "프로그램 종료\n"
     ]
    }
   ],
   "source": [
    "menu ={'아아':3000, '라떼':4000, '코코아':3500}\n",
    "while True:\n",
    "    menunum = input('''\n",
    "--------------------------------------------------------\n",
    "1.메뉴입력 2.메뉴수정 3.메뉴목록 4.메뉴삭제 5.프로그램 종료 '   \n",
    "--------------------------------------------------------\n",
    "                메뉴 선택 >>> ''')\n",
    "    if menunum == '1':\n",
    "        print('현재 메뉴 : ', list(menu.keys()))\n",
    "        name = input('추가할 메뉴명 : ')\n",
    "        price = 'a'\n",
    "        while not price.isdecimal():\n",
    "            price = input('추가할 메뉴의 가격 : ')\n",
    "        menu[name] = int(price)\n",
    "        print(menu)\n",
    "        \n",
    "    elif menunum == '2':\n",
    "        print('현재 메뉴 : ', list(menu.keys()))\n",
    "        name = ''\n",
    "        while not name in menu.keys():\n",
    "            name = input('수정할 메뉴명 : ')\n",
    "        price = 'a'\n",
    "        while not price.isdecimal():\n",
    "            price = input('수정할 메뉴의 가격 : ')\n",
    "        menu[name] = int(price)\n",
    "        print(menu)\n",
    "        \n",
    "    elif menunum == '3':\n",
    "        print('----------------------menu----------------------')        \n",
    "        for item in sorted(menu.items(), key=lambda data:data[1]): # 가격순으로 바꾸고 싶다면 data:data[1]/ 내림차순 data:data[1], reverse=True  \n",
    "            print(f'{item[0]} : {item[1]:,}')\n",
    "\n",
    "    elif menunum == '4':\n",
    "        print('현재 메뉴 : ', list(menu.keys()))\n",
    "        name = ''\n",
    "        while not name in menu.keys():\n",
    "            name = input('삭제할 메뉴명 : ')\n",
    "        del menu[name]\n",
    "        for item in menu.items():\n",
    "            print(f'{item[0]} : {item[1]:,}')\n",
    "        \n",
    "    elif menunum == '5':\n",
    "        print('프로그램 종료')\n",
    "        break\n",
    "        \n",
    "    else:\n",
    "        print('메뉴를 잘못 선택하셨습니다.')\n",
    "        \n",
    "# while문을 이용해서 큰 틀을 먼저 만든 뒤에 if문에서 pass를 이용해 하나씩 세부 코드로 들어가기"
   ]
  },
  {
   "cell_type": "markdown",
   "id": "db8d2c7d-1a6e-4da4-b965-7be4d6bed6fa",
   "metadata": {},
   "source": [
    "# Quiz04"
   ]
  },
  {
   "cell_type": "raw",
   "id": "a8520aa7-e731-4429-9239-ae7b6f334101",
   "metadata": {},
   "source": [
    "quiz03 내용을 프로그램 시작시 읽어오고 프로그램 종료시에 저장"
   ]
  },
  {
   "cell_type": "code",
   "execution_count": 325,
   "id": "b468479f-0dfa-47a6-88db-dbd3318819b2",
   "metadata": {
    "collapsed": true,
    "jupyter": {
     "outputs_hidden": true
    },
    "tags": []
   },
   "outputs": [
    {
     "name": "stdin",
     "output_type": "stream",
     "text": [
      "\n",
      "--------------------------------------------------------\n",
      "1.메뉴입력 2.메뉴수정 3.메뉴목록 4.메뉴삭제 5.프로그램 종료 '   \n",
      "--------------------------------------------------------\n",
      "                메뉴 선택 >>>  3\n"
     ]
    },
    {
     "name": "stdout",
     "output_type": "stream",
     "text": [
      "----------------------menu----------------------\n",
      "아아 : 3,000\n",
      "코코아 : 3,500\n",
      "라떼 : 4,000\n",
      "에이드 : 4,500\n"
     ]
    },
    {
     "name": "stdin",
     "output_type": "stream",
     "text": [
      "\n",
      "--------------------------------------------------------\n",
      "1.메뉴입력 2.메뉴수정 3.메뉴목록 4.메뉴삭제 5.프로그램 종료 '   \n",
      "--------------------------------------------------------\n",
      "                메뉴 선택 >>>  5\n"
     ]
    },
    {
     "name": "stdout",
     "output_type": "stream",
     "text": [
      "프로그램 종료\n"
     ]
    }
   ],
   "source": [
    "import json\n",
    "\n",
    "f = open('menu.json', 'r')\n",
    "menu = json.load(f)\n",
    "f.close()\n",
    "\n",
    "# menu ={'아아':3000, '라떼':4000, '코코아':3500}\n",
    "while True:\n",
    "    menunum = input('''\n",
    "--------------------------------------------------------\n",
    "1.메뉴입력 2.메뉴수정 3.메뉴목록 4.메뉴삭제 5.프로그램 종료 '   \n",
    "--------------------------------------------------------\n",
    "                메뉴 선택 >>> ''')\n",
    "    if menunum == '1':\n",
    "        print('현재 메뉴 : ', list(menu.keys()))\n",
    "        name = input('추가할 메뉴명 : ')\n",
    "        price = 'a'\n",
    "        while not price.isdecimal():\n",
    "            price = input('추가할 메뉴의 가격 : ')\n",
    "        menu[name] = int(price)\n",
    "        print(menu)\n",
    "        \n",
    "    elif menunum == '2':\n",
    "        print('현재 메뉴 : ', list(menu.keys()))\n",
    "        name = ''\n",
    "        while not name in menu.keys():\n",
    "            name = input('수정할 메뉴명 : ')\n",
    "        price = 'a'\n",
    "        while not price.isdecimal():\n",
    "            price = input('수정할 메뉴의 가격 : ')\n",
    "        menu[name] = int(price)\n",
    "        print(menu)\n",
    "        \n",
    "    elif menunum == '3':\n",
    "        print('----------------------menu----------------------')        \n",
    "        for item in sorted(menu.items(), key=lambda data:data[1]): # 가격순으로 바꾸고 싶다면 data:data[1]/ 내림차순 data:data[1], reverse=True  \n",
    "            print(f'{item[0]} : {item[1]:,}')\n",
    "\n",
    "    elif menunum == '4':\n",
    "        print('현재 메뉴 : ', list(menu.keys()))\n",
    "        name = ''\n",
    "        while not name in menu.keys():\n",
    "            name = input('삭제할 메뉴명 : ')\n",
    "        del menu[name]\n",
    "        for item in menu.items():\n",
    "            print(f'{item[0]} : {item[1]:,}')\n",
    "        \n",
    "    elif menunum == '5':\n",
    "        print('프로그램 종료')\n",
    "        f = open('menu.json', 'w')\n",
    "        json.dump(menu, f)\n",
    "        f.close()\n",
    "        break\n",
    "        \n",
    "    else:\n",
    "        print('메뉴를 잘못 선택하셨습니다.')\n",
    "        \n",
    "# while문을 이용해서 큰 틀을 먼저 만든 뒤에 if문에서 pass를 이용해 하나씩 세부 코드로 들어가기"
   ]
  },
  {
   "cell_type": "code",
   "execution_count": 292,
   "id": "61652c5d-4d05-45d4-b422-f41e17542372",
   "metadata": {
    "jupyter": {
     "source_hidden": true
    },
    "tags": []
   },
   "outputs": [],
   "source": [
    "file = open('hello.txt', 'w')"
   ]
  },
  {
   "cell_type": "code",
   "execution_count": 294,
   "id": "3c362c58-2233-452b-a697-f0271327f505",
   "metadata": {
    "collapsed": true,
    "jupyter": {
     "outputs_hidden": true,
     "source_hidden": true
    },
    "tags": []
   },
   "outputs": [
    {
     "data": {
      "text/plain": [
       "12"
      ]
     },
     "execution_count": 294,
     "metadata": {},
     "output_type": "execute_result"
    }
   ],
   "source": [
    "file.write('hello world!')"
   ]
  },
  {
   "cell_type": "code",
   "execution_count": 295,
   "id": "da644f5c-5ccc-4ee1-908a-247f5814844f",
   "metadata": {
    "jupyter": {
     "source_hidden": true
    },
    "tags": []
   },
   "outputs": [],
   "source": [
    "file.close()"
   ]
  },
  {
   "cell_type": "code",
   "execution_count": 302,
   "id": "c1618d1f-99cd-4e45-b4ed-eaf4a2e1bd9b",
   "metadata": {
    "jupyter": {
     "source_hidden": true
    },
    "tags": []
   },
   "outputs": [],
   "source": [
    "file = open('hello.txt', 'r')\n",
    "text = file.readlines()"
   ]
  },
  {
   "cell_type": "code",
   "execution_count": 303,
   "id": "a64f23b7-a11d-4818-bc72-1bae243a3a58",
   "metadata": {
    "collapsed": true,
    "jupyter": {
     "outputs_hidden": true,
     "source_hidden": true
    },
    "tags": []
   },
   "outputs": [
    {
     "data": {
      "text/plain": [
       "['hello world!hello world!\\n',\n",
       " 'hello world!hello world!\\n',\n",
       " 'hello world!hello world!\\n',\n",
       " 'hello world!hello world!\\n',\n",
       " 'hello world!hello world!']"
      ]
     },
     "execution_count": 303,
     "metadata": {},
     "output_type": "execute_result"
    }
   ],
   "source": [
    "text"
   ]
  },
  {
   "cell_type": "code",
   "execution_count": 304,
   "id": "ea004166-5918-4572-9777-95d94b798ab9",
   "metadata": {
    "jupyter": {
     "source_hidden": true
    },
    "tags": []
   },
   "outputs": [],
   "source": [
    "file.close()"
   ]
  },
  {
   "cell_type": "code",
   "execution_count": 305,
   "id": "9bb5c271-be1b-48f2-b6bb-0883fe24659c",
   "metadata": {
    "jupyter": {
     "source_hidden": true
    },
    "tags": []
   },
   "outputs": [],
   "source": [
    "import pickle"
   ]
  },
  {
   "cell_type": "code",
   "execution_count": 308,
   "id": "0dc2f018-581b-484f-80b3-cf69b061f19d",
   "metadata": {
    "jupyter": {
     "source_hidden": true
    },
    "tags": []
   },
   "outputs": [],
   "source": [
    "f = open('menu.pickle', 'wb')\n",
    "pickle.dump(menu, f)\n",
    "f.close()"
   ]
  },
  {
   "cell_type": "code",
   "execution_count": 309,
   "id": "79d35ae7-34be-463e-b1c1-a3f37e2928bf",
   "metadata": {
    "jupyter": {
     "source_hidden": true
    },
    "tags": []
   },
   "outputs": [],
   "source": [
    "f = open('menu.pickle', 'rb')\n",
    "data = pickle.load(f)\n",
    "f.close()"
   ]
  },
  {
   "cell_type": "code",
   "execution_count": 310,
   "id": "f454d172-cfb4-4261-ac94-b971bfe140d2",
   "metadata": {
    "collapsed": true,
    "jupyter": {
     "outputs_hidden": true,
     "source_hidden": true
    },
    "tags": []
   },
   "outputs": [
    {
     "data": {
      "text/plain": [
       "{'아아': 3000, '라떼': 4000, '코코아': 3500}"
      ]
     },
     "execution_count": 310,
     "metadata": {},
     "output_type": "execute_result"
    }
   ],
   "source": [
    "data"
   ]
  },
  {
   "cell_type": "code",
   "execution_count": 312,
   "id": "8bf72a2f-9626-486b-a66c-4eec674f63c8",
   "metadata": {
    "collapsed": true,
    "jupyter": {
     "outputs_hidden": true,
     "source_hidden": true
    },
    "tags": []
   },
   "outputs": [
    {
     "data": {
      "text/plain": [
       "dict"
      ]
     },
     "execution_count": 312,
     "metadata": {},
     "output_type": "execute_result"
    }
   ],
   "source": [
    "type(data)"
   ]
  },
  {
   "cell_type": "markdown",
   "id": "f7f7f667-df33-4b69-b3da-57905859c7c8",
   "metadata": {
    "jupyter": {
     "source_hidden": true
    },
    "tags": []
   },
   "source": [
    "# JSON 파일"
   ]
  },
  {
   "cell_type": "code",
   "execution_count": 313,
   "id": "c98cdbfa-9f2f-4c1e-b7a6-ec91413c2eab",
   "metadata": {
    "jupyter": {
     "source_hidden": true
    },
    "tags": []
   },
   "outputs": [],
   "source": [
    "import json"
   ]
  },
  {
   "cell_type": "code",
   "execution_count": 315,
   "id": "515b234f-6dfd-4e5b-b377-4f40ced67e05",
   "metadata": {
    "jupyter": {
     "source_hidden": true
    },
    "tags": []
   },
   "outputs": [],
   "source": [
    "f = open('menu.json', 'w')\n",
    "json.dump(menu, f)\n",
    "f.close()"
   ]
  },
  {
   "cell_type": "code",
   "execution_count": 316,
   "id": "28c123e2-9d65-4a1f-9eca-488c953aaf00",
   "metadata": {
    "jupyter": {
     "source_hidden": true
    },
    "tags": []
   },
   "outputs": [],
   "source": [
    "f = open('menu.json', 'r')\n",
    "data = json.load(f)\n",
    "f.close()"
   ]
  },
  {
   "cell_type": "code",
   "execution_count": 317,
   "id": "ac96aad5-a17e-4a36-8779-1b6d60ca345c",
   "metadata": {
    "collapsed": true,
    "jupyter": {
     "outputs_hidden": true,
     "source_hidden": true
    },
    "tags": []
   },
   "outputs": [
    {
     "data": {
      "text/plain": [
       "dict"
      ]
     },
     "execution_count": 317,
     "metadata": {},
     "output_type": "execute_result"
    }
   ],
   "source": [
    "type(data)"
   ]
  },
  {
   "cell_type": "code",
   "execution_count": 318,
   "id": "3480c8e6-f279-4d0c-b467-e410780f9ef3",
   "metadata": {
    "collapsed": true,
    "jupyter": {
     "outputs_hidden": true,
     "source_hidden": true
    },
    "tags": []
   },
   "outputs": [
    {
     "data": {
      "text/plain": [
       "{'아아': 3000, '라떼': 4000, '코코아': 3500}"
      ]
     },
     "execution_count": 318,
     "metadata": {},
     "output_type": "execute_result"
    }
   ],
   "source": [
    "data"
   ]
  },
  {
   "cell_type": "markdown",
   "id": "c3fbe4e5-c5a3-417d-ba9a-a933b037fc21",
   "metadata": {
    "jupyter": {
     "source_hidden": true
    },
    "tags": []
   },
   "source": [
    "# Quiz05"
   ]
  },
  {
   "cell_type": "raw",
   "id": "cb38c9bc-4e84-407e-9453-4eb87d99aed6",
   "metadata": {
    "jupyter": {
     "source_hidden": true
    },
    "tags": []
   },
   "source": [
    "타자게임\n",
    "- 데이터는 word = ['cat', 'dog', 'fox', 'monkey', 'mouse', 'panda', 'frog', 'snake', 'wolf']\n",
    "- 문제는 총 5문제가 랜덤으로 나옵니다.\n",
    "- 나온 문제는 맞출때까지 계속 됩니다.\n",
    "- 문제를 맞추면 다음 문제가 나옵니다.\n",
    "- 걸린 시간을 보여줍니다."
   ]
  },
  {
   "cell_type": "code",
   "execution_count": 380,
   "id": "177945c3-95de-43a1-be79-dc36ceed76ee",
   "metadata": {
    "collapsed": true,
    "jupyter": {
     "outputs_hidden": true
    },
    "tags": []
   },
   "outputs": [
    {
     "name": "stdin",
     "output_type": "stream",
     "text": [
      "시작!(enter) \n"
     ]
    },
    {
     "name": "stdout",
     "output_type": "stream",
     "text": [
      "1번 문제 :  panda\n"
     ]
    },
    {
     "name": "stdin",
     "output_type": "stream",
     "text": [
      "단어 입력 :  panda\n"
     ]
    },
    {
     "name": "stdout",
     "output_type": "stream",
     "text": [
      "통과\n",
      "2번 문제 :  wolf\n"
     ]
    },
    {
     "name": "stdin",
     "output_type": "stream",
     "text": [
      "단어 입력 :  wolf\n"
     ]
    },
    {
     "name": "stdout",
     "output_type": "stream",
     "text": [
      "통과\n",
      "3번 문제 :  frog\n"
     ]
    },
    {
     "name": "stdin",
     "output_type": "stream",
     "text": [
      "단어 입력 :  frog\n"
     ]
    },
    {
     "name": "stdout",
     "output_type": "stream",
     "text": [
      "통과\n",
      "4번 문제 :  dog\n"
     ]
    },
    {
     "name": "stdin",
     "output_type": "stream",
     "text": [
      "단어 입력 :  dog\n"
     ]
    },
    {
     "name": "stdout",
     "output_type": "stream",
     "text": [
      "통과\n",
      "5번 문제 :  monkey\n"
     ]
    },
    {
     "name": "stdin",
     "output_type": "stream",
     "text": [
      "단어 입력 :  monkey\n"
     ]
    },
    {
     "name": "stdout",
     "output_type": "stream",
     "text": [
      "통과\n",
      "5문제 다 맞췄습니다.\n",
      "걸린 시간 : 10초\n"
     ]
    }
   ],
   "source": [
    "import random, time\n",
    "\n",
    "word = ['cat', 'dog', 'fox', 'monkey', 'mouse', 'panda', 'frog', 'snake', 'wolf']\n",
    "n = 1\n",
    "quiz = random.choice(word)\n",
    "input('시작!(enter)')\n",
    "start = time.time()\n",
    "\n",
    "while n <= 5: \n",
    "    test = ''\n",
    "    print(f'{n}번 문제 : ', quiz)\n",
    "    test = input('단어 입력 : ')\n",
    "    if quiz == test:\n",
    "        print('통과')\n",
    "        n = n + 1\n",
    "        quiz = random.choice(word)\n",
    "    else:\n",
    "        print('다시 입력하세요')\n",
    "print('5문제 다 맞췄습니다.')\n",
    "\n",
    "end = time.time()\n",
    "print(f'걸린 시간 : {end-start:.0f}초')\n",
    "# word[random.randint(0,len(word)-1)]"
   ]
  },
  {
   "cell_type": "markdown",
   "id": "ade363bd-6912-47f7-8175-92d4fadd124b",
   "metadata": {},
   "source": [
    "# Quiz06"
   ]
  },
  {
   "cell_type": "raw",
   "id": "697252cf-e3b4-4c55-84b5-8aad0bea752e",
   "metadata": {},
   "source": [
    "앞에 타자 게임을 활용\n",
    "- 1.문제추가 2.타자게임 3.등수리스트 4.종료하기\n",
    "- 문제추가 후 데이터는 파일로 저장\n",
    "- 문제추가는 단어를 입력받아서 중복되지 않게 추가, 종료 전까지 계속 추가 작업 진행\n",
    "- 타자게임은 시간을 체크하고, 걸린 시간을 사용자명과 함께 저장합니다. (딕셔너리로 저장 : 등수데이터)\n",
    "- 등수리스트는 걸린시간이 적은 순서대로 정렬해서 출력합니다.\n",
    "- 종료하기는 등수데이터를 저장하고 진행합니다.\n",
    "- 프로그램이 시작될 때 문제와 등수정보를 읽어 옵니다."
   ]
  },
  {
   "cell_type": "code",
   "execution_count": null,
   "id": "ad517553-b9b9-476d-9428-5ae8a087baa5",
   "metadata": {
    "collapsed": true,
    "jupyter": {
     "outputs_hidden": true,
     "source_hidden": true
    },
    "tags": []
   },
   "outputs": [
    {
     "name": "stdin",
     "output_type": "stream",
     "text": [
      "번호 입력 :  2\n",
      "사용자명 :  dlwlgus\n"
     ]
    },
    {
     "name": "stdout",
     "output_type": "stream",
     "text": [
      "1번 문제 :  dog\n"
     ]
    },
    {
     "name": "stdin",
     "output_type": "stream",
     "text": [
      "단어 입력 :  dog\n"
     ]
    },
    {
     "name": "stdout",
     "output_type": "stream",
     "text": [
      "통과\n",
      "{'dlwlgus': -82}\n",
      "2번 문제 :  panda\n"
     ]
    },
    {
     "name": "stdin",
     "output_type": "stream",
     "text": [
      "단어 입력 :  4\n"
     ]
    },
    {
     "name": "stdout",
     "output_type": "stream",
     "text": [
      "다시 입력하세요\n",
      "2번 문제 :  panda\n"
     ]
    },
    {
     "ename": "KeyboardInterrupt",
     "evalue": "Interrupted by user",
     "output_type": "error",
     "traceback": [
      "\u001b[1;31m---------------------------------------------------------------------------\u001b[0m",
      "\u001b[1;31mKeyboardInterrupt\u001b[0m                         Traceback (most recent call last)",
      "\u001b[1;32m~\\AppData\\Local\\Temp/ipykernel_12044/1949997899.py\u001b[0m in \u001b[0;36m<module>\u001b[1;34m\u001b[0m\n\u001b[0;32m     21\u001b[0m             \u001b[0mtest\u001b[0m \u001b[1;33m=\u001b[0m \u001b[1;34m''\u001b[0m\u001b[1;33m\u001b[0m\u001b[1;33m\u001b[0m\u001b[0m\n\u001b[0;32m     22\u001b[0m             \u001b[0mprint\u001b[0m\u001b[1;33m(\u001b[0m\u001b[1;34mf'{n}번 문제 : '\u001b[0m\u001b[1;33m,\u001b[0m \u001b[0mquiz\u001b[0m\u001b[1;33m)\u001b[0m\u001b[1;33m\u001b[0m\u001b[1;33m\u001b[0m\u001b[0m\n\u001b[1;32m---> 23\u001b[1;33m             \u001b[0mtest\u001b[0m \u001b[1;33m=\u001b[0m \u001b[0minput\u001b[0m\u001b[1;33m(\u001b[0m\u001b[1;34m'단어 입력 : '\u001b[0m\u001b[1;33m)\u001b[0m\u001b[1;33m\u001b[0m\u001b[1;33m\u001b[0m\u001b[0m\n\u001b[0m\u001b[0;32m     24\u001b[0m             \u001b[1;32mif\u001b[0m \u001b[0mquiz\u001b[0m \u001b[1;33m==\u001b[0m \u001b[0mtest\u001b[0m\u001b[1;33m:\u001b[0m\u001b[1;33m\u001b[0m\u001b[1;33m\u001b[0m\u001b[0m\n\u001b[0;32m     25\u001b[0m                 \u001b[0mprint\u001b[0m\u001b[1;33m(\u001b[0m\u001b[1;34m'통과'\u001b[0m\u001b[1;33m)\u001b[0m\u001b[1;33m\u001b[0m\u001b[1;33m\u001b[0m\u001b[0m\n",
      "\u001b[1;32m~\\anaconda3\\lib\\site-packages\\ipykernel\\kernelbase.py\u001b[0m in \u001b[0;36mraw_input\u001b[1;34m(self, prompt)\u001b[0m\n\u001b[0;32m   1004\u001b[0m                 \u001b[1;34m\"raw_input was called, but this frontend does not support input requests.\"\u001b[0m\u001b[1;33m\u001b[0m\u001b[1;33m\u001b[0m\u001b[0m\n\u001b[0;32m   1005\u001b[0m             )\n\u001b[1;32m-> 1006\u001b[1;33m         return self._input_request(\n\u001b[0m\u001b[0;32m   1007\u001b[0m             \u001b[0mstr\u001b[0m\u001b[1;33m(\u001b[0m\u001b[0mprompt\u001b[0m\u001b[1;33m)\u001b[0m\u001b[1;33m,\u001b[0m\u001b[1;33m\u001b[0m\u001b[1;33m\u001b[0m\u001b[0m\n\u001b[0;32m   1008\u001b[0m             \u001b[0mself\u001b[0m\u001b[1;33m.\u001b[0m\u001b[0m_parent_ident\u001b[0m\u001b[1;33m[\u001b[0m\u001b[1;34m\"shell\"\u001b[0m\u001b[1;33m]\u001b[0m\u001b[1;33m,\u001b[0m\u001b[1;33m\u001b[0m\u001b[1;33m\u001b[0m\u001b[0m\n",
      "\u001b[1;32m~\\anaconda3\\lib\\site-packages\\ipykernel\\kernelbase.py\u001b[0m in \u001b[0;36m_input_request\u001b[1;34m(self, prompt, ident, parent, password)\u001b[0m\n\u001b[0;32m   1049\u001b[0m             \u001b[1;32mexcept\u001b[0m \u001b[0mKeyboardInterrupt\u001b[0m\u001b[1;33m:\u001b[0m\u001b[1;33m\u001b[0m\u001b[1;33m\u001b[0m\u001b[0m\n\u001b[0;32m   1050\u001b[0m                 \u001b[1;31m# re-raise KeyboardInterrupt, to truncate traceback\u001b[0m\u001b[1;33m\u001b[0m\u001b[1;33m\u001b[0m\u001b[0m\n\u001b[1;32m-> 1051\u001b[1;33m                 \u001b[1;32mraise\u001b[0m \u001b[0mKeyboardInterrupt\u001b[0m\u001b[1;33m(\u001b[0m\u001b[1;34m\"Interrupted by user\"\u001b[0m\u001b[1;33m)\u001b[0m \u001b[1;32mfrom\u001b[0m \u001b[1;32mNone\u001b[0m\u001b[1;33m\u001b[0m\u001b[1;33m\u001b[0m\u001b[0m\n\u001b[0m\u001b[0;32m   1052\u001b[0m             \u001b[1;32mexcept\u001b[0m \u001b[0mException\u001b[0m\u001b[1;33m:\u001b[0m\u001b[1;33m\u001b[0m\u001b[1;33m\u001b[0m\u001b[0m\n\u001b[0;32m   1053\u001b[0m                 \u001b[0mself\u001b[0m\u001b[1;33m.\u001b[0m\u001b[0mlog\u001b[0m\u001b[1;33m.\u001b[0m\u001b[0mwarning\u001b[0m\u001b[1;33m(\u001b[0m\u001b[1;34m\"Invalid Message:\"\u001b[0m\u001b[1;33m,\u001b[0m \u001b[0mexc_info\u001b[0m\u001b[1;33m=\u001b[0m\u001b[1;32mTrue\u001b[0m\u001b[1;33m)\u001b[0m\u001b[1;33m\u001b[0m\u001b[1;33m\u001b[0m\u001b[0m\n",
      "\u001b[1;31mKeyboardInterrupt\u001b[0m: Interrupted by user"
     ]
    }
   ],
   "source": [
    "import json, time\n",
    "\n",
    "word = ['cat', 'dog', 'fox', 'monkey', 'mouse', 'panda', 'frog', 'snake', 'wolf']\n",
    "user = {}\n",
    "n = 1\n",
    "quiz = random.choice(word)\n",
    "start = time.time()\n",
    "\n",
    "while True:\n",
    "    menu = input('번호 입력 : ')\n",
    "    \n",
    "    if menu == '1':\n",
    "        quiz = input('문제 추가 : ')\n",
    "        while not quiz in word:\n",
    "            word.append(quiz)\n",
    "            print(word)\n",
    "        \n",
    "    elif menu == '2':\n",
    "        name = input('사용자명 : ')\n",
    "        while n <= 5: \n",
    "            test = ''\n",
    "            print(f'{n}번 문제 : ', quiz)\n",
    "            test = input('단어 입력 : ')\n",
    "            if quiz == test:\n",
    "                print('통과')\n",
    "                n = n + 1\n",
    "                quiz = random.choice(word)\n",
    "            else:\n",
    "                print('다시 입력하세요')\n",
    "        print('5문제 다 맞췄습니다.')\n",
    "        \n",
    "        end = time.time()\n",
    "        user[name] = int(end-start)\n",
    "        print(user)\n",
    "        \n",
    "    elif menu == '3':\n",
    "        for item in sorted(rank.items(), key=lambda data:data[1]): # 가격순으로 바꾸고 싶다면 data:data[1]/ 내림차순 data:data[1], reverse=True  \n",
    "            print(f'{item[0]} : {item[1]}')\n",
    "            \n",
    "    elif menu == '4':\n",
    "        print('종료하기')\n",
    "        f = open('word.json', 'w')\n",
    "        json.dump(word, f)\n",
    "        f.close()\n",
    "        break\n",
    "        \n",
    "    else:\n",
    "        print('잘못 입력하였습니다.')\n",
    "        \n",
    "    \n",
    "    "
   ]
  },
  {
   "cell_type": "code",
   "execution_count": 444,
   "id": "ecdd5c09-9d03-461b-90cd-933d4c5b0188",
   "metadata": {},
   "outputs": [
    {
     "name": "stdin",
     "output_type": "stream",
     "text": [
      "번호 입력 :  3\n"
     ]
    },
    {
     "name": "stdout",
     "output_type": "stream",
     "text": [
      "1등 ssss 6.2초\n",
      "2등 bbb 6.8초\n",
      "3등 d 8.9초\n",
      "4등 dd 9.6초\n",
      "5등 aaa 1e+01초\n",
      "6등 ddfsd 1.1e+01초\n"
     ]
    },
    {
     "name": "stdin",
     "output_type": "stream",
     "text": [
      "번호 입력 :  4\n"
     ]
    },
    {
     "name": "stdout",
     "output_type": "stream",
     "text": [
      "종료하기\n"
     ]
    }
   ],
   "source": [
    "import random, json, time\n",
    "\n",
    "# word = ['cat', 'dog', 'fox', 'monkey', 'mouse', 'panda', 'frog', 'snake', 'wolf']\n",
    "# rank = {'aaa':10.123}\n",
    "\n",
    "with open('word.json', 'r') as f:\n",
    "    word = json.load(f)\n",
    "with open('rank.json', 'r') as f:\n",
    "    rank = json.load(f)  \n",
    "\n",
    "while True:\n",
    "    menu = input('번호 입력 : ')\n",
    "    \n",
    "    if menu == '1':\n",
    "        while True:\n",
    "            quiz = input('문제 추가(종료:0) : ')\n",
    "            while quiz in word:\n",
    "                quiz = input('중복된 단어입니다. 다시 입력(종료:0) : ')\n",
    "            if quiz == '0':\n",
    "                break\n",
    "            word.append(quiz)\n",
    "            print(word)\n",
    "        with open('word.json', 'w') as f:\n",
    "            json.dump(word, f)\n",
    "            \n",
    "        \n",
    "    elif menu == '2':\n",
    "        n = 1\n",
    "        quiz = random.choice(word)\n",
    "        input('시작!(enter)')\n",
    "        start = time.time()\n",
    "\n",
    "        while n <= 5: \n",
    "            test = ''\n",
    "            print(f'{n}번 문제 : ', quiz)\n",
    "            test = input('단어 입력 : ')\n",
    "            if quiz == test:\n",
    "                print('통과')\n",
    "                n = n + 1\n",
    "                quiz = random.choice(word)\n",
    "            else:\n",
    "                print('다시 입력하세요')\n",
    "        print('5문제 다 맞췄습니다.')\n",
    "\n",
    "        end = time.time()\n",
    "        print(f'걸린 시간 : {end-start:.0f}초')\n",
    "        name = input('사용자명 : ')\n",
    "        while name in rank:\n",
    "            name = input('사용자명이 중복됩니다. 다른 이름을 입력하세요 : ')\n",
    "        rank[name] = end-start\n",
    "        print(rank)\n",
    "        \n",
    "    elif menu == '3':\n",
    "        ranklist = sorted(rank.items(), key=lambda x:x[1])\n",
    "        for index, item in enumerate(ranklist):\n",
    "            print(f'{index+1}등 {item[0]} {item[1]:.2}초')\n",
    "        \n",
    "    elif menu == '4':\n",
    "        print('종료하기')\n",
    "        with open('rank.json', 'w') as f:\n",
    "            json.dump(rank, f)\n",
    "        break\n",
    "        \n",
    "    else:\n",
    "        print('잘못 입력하였습니다.')\n",
    "    "
   ]
  },
  {
   "cell_type": "code",
   "execution_count": null,
   "id": "c48b5022-ad3c-4c92-9049-bd390bd7f452",
   "metadata": {},
   "outputs": [],
   "source": []
  }
 ],
 "metadata": {
  "kernelspec": {
   "display_name": "Python 3 (ipykernel)",
   "language": "python",
   "name": "python3"
  },
  "language_info": {
   "codemirror_mode": {
    "name": "ipython",
    "version": 3
   },
   "file_extension": ".py",
   "mimetype": "text/x-python",
   "name": "python",
   "nbconvert_exporter": "python",
   "pygments_lexer": "ipython3",
   "version": "3.9.7"
  }
 },
 "nbformat": 4,
 "nbformat_minor": 5
}
