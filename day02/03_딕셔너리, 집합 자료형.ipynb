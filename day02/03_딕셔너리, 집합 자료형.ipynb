{
 "cells": [
  {
   "cell_type": "markdown",
   "id": "316d05dd-f0a3-4c5b-82f2-94ab6bebb918",
   "metadata": {},
   "source": [
    "# 딕셔너리 자료형{key:value}"
   ]
  },
  {
   "cell_type": "code",
   "execution_count": 9,
   "id": "fbf236f0-25f2-4119-8dac-dbdd6fd53cff",
   "metadata": {},
   "outputs": [],
   "source": [
    "dic = {'name' : '이지현', 'phone':'01088740092', 'birth' : '0403'}"
   ]
  },
  {
   "cell_type": "code",
   "execution_count": 10,
   "id": "9056c8d9-2ebc-4089-943d-8a756a6b6ed3",
   "metadata": {},
   "outputs": [
    {
     "data": {
      "text/plain": [
       "'이지현'"
      ]
     },
     "execution_count": 10,
     "metadata": {},
     "output_type": "execute_result"
    }
   ],
   "source": [
    "dic['name']"
   ]
  },
  {
   "cell_type": "code",
   "execution_count": 11,
   "id": "aee389be-cd9c-4767-9819-41f3f922ef27",
   "metadata": {},
   "outputs": [],
   "source": [
    "del dic['name'] # 딕셔너리 요소 삭제"
   ]
  },
  {
   "cell_type": "code",
   "execution_count": 12,
   "id": "31538ed3-4dcb-4021-ba0b-9f2c9f7aed7b",
   "metadata": {},
   "outputs": [
    {
     "data": {
      "text/plain": [
       "{'phone': '01088740092', 'birth': '0403'}"
      ]
     },
     "execution_count": 12,
     "metadata": {},
     "output_type": "execute_result"
    }
   ],
   "source": [
    "dic"
   ]
  },
  {
   "cell_type": "code",
   "execution_count": 21,
   "id": "a4d51545-144d-42c1-ba2a-11ceb55d66e5",
   "metadata": {},
   "outputs": [
    {
     "data": {
      "text/plain": [
       "{'phone': '01088740092', 'birth': '0403', 'name': '이지현'}"
      ]
     },
     "execution_count": 21,
     "metadata": {},
     "output_type": "execute_result"
    }
   ],
   "source": [
    "dic['name'] = '이지현' # 딕셔너리 쌍 추가하기\n",
    "dic"
   ]
  },
  {
   "cell_type": "code",
   "execution_count": 20,
   "id": "0047d01a-a066-4e22-b3db-bc3028f49511",
   "metadata": {},
   "outputs": [
    {
     "data": {
      "text/plain": [
       "{'phone': '01088740092', 'birth': '0403', 'name': '이지현1'}"
      ]
     },
     "execution_count": 20,
     "metadata": {},
     "output_type": "execute_result"
    }
   ],
   "source": [
    "dic['name'] = '이지현1' # key가 동일하면 value값 덮어쓰기\n",
    "dic"
   ]
  },
  {
   "cell_type": "code",
   "execution_count": 23,
   "id": "00708991-eb25-43e4-acc1-f1b97c3212ed",
   "metadata": {},
   "outputs": [
    {
     "data": {
      "text/plain": [
       "99"
      ]
     },
     "execution_count": 23,
     "metadata": {},
     "output_type": "execute_result"
    }
   ],
   "source": [
    "grade = {'pey': 10, 'julliet': 99}\n",
    "grade['julliet'] # key 사용해서 value 얻기"
   ]
  },
  {
   "cell_type": "raw",
   "id": "39b8b1bf-cb45-436f-9074-297fb384c8e3",
   "metadata": {},
   "source": [
    "튜플을 key로 쓸 수 있음 -> 수정이 불가능하기 때문에\n",
    "리스트는 값이 바뀔 수도 있기 때문에 key로 사용불가"
   ]
  },
  {
   "cell_type": "code",
   "execution_count": 24,
   "id": "8434636e-3f54-45d1-a926-992f4480d06b",
   "metadata": {},
   "outputs": [],
   "source": [
    "dic[(1,2)] = [2,3,4,5]"
   ]
  },
  {
   "cell_type": "code",
   "execution_count": 25,
   "id": "dac12c84-cf55-47d2-8e0c-a3030640263d",
   "metadata": {},
   "outputs": [
    {
     "data": {
      "text/plain": [
       "{'phone': '01088740092', 'birth': '0403', 'name': '이지현', (1, 2): [2, 3, 4, 5]}"
      ]
     },
     "execution_count": 25,
     "metadata": {},
     "output_type": "execute_result"
    }
   ],
   "source": [
    "dic"
   ]
  },
  {
   "cell_type": "code",
   "execution_count": 27,
   "id": "a0393505-a62f-4645-a1f0-456964c5d441",
   "metadata": {},
   "outputs": [
    {
     "data": {
      "text/plain": [
       "dict_keys(['phone', 'birth', 'name', (1, 2)])"
      ]
     },
     "execution_count": 27,
     "metadata": {},
     "output_type": "execute_result"
    }
   ],
   "source": [
    "dic.keys() # key 리스트 만들기"
   ]
  },
  {
   "cell_type": "code",
   "execution_count": 28,
   "id": "787589a3-fca7-41b3-ab41-b24db13c0099",
   "metadata": {},
   "outputs": [
    {
     "name": "stdout",
     "output_type": "stream",
     "text": [
      "01088740092\n",
      "0403\n",
      "이지현\n",
      "[2, 3, 4, 5]\n"
     ]
    }
   ],
   "source": [
    "for x in dic.keys():\n",
    "    print(dic[x])"
   ]
  },
  {
   "cell_type": "code",
   "execution_count": 30,
   "id": "9f841d9d-0316-42e1-8d4c-5e40ae1961b6",
   "metadata": {},
   "outputs": [
    {
     "data": {
      "text/plain": [
       "dict_values(['01088740092', '0403', '이지현', [2, 3, 4, 5]])"
      ]
     },
     "execution_count": 30,
     "metadata": {},
     "output_type": "execute_result"
    }
   ],
   "source": [
    "dic.values() # value 리스트 만들기"
   ]
  },
  {
   "cell_type": "code",
   "execution_count": 32,
   "id": "bd7f40e6-fe92-4643-a164-0ec705900aec",
   "metadata": {},
   "outputs": [
    {
     "data": {
      "text/plain": [
       "dict_items([('phone', '01088740092'), ('birth', '0403'), ('name', '이지현'), ((1, 2), [2, 3, 4, 5])])"
      ]
     },
     "execution_count": 32,
     "metadata": {},
     "output_type": "execute_result"
    }
   ],
   "source": [
    "dic.items() # key, value를 튜플로 뽑아줌"
   ]
  },
  {
   "cell_type": "code",
   "execution_count": 48,
   "id": "be44d7fd-2b08-4094-a65b-c002b6d5238c",
   "metadata": {},
   "outputs": [
    {
     "data": {
      "text/plain": [
       "{}"
      ]
     },
     "execution_count": 48,
     "metadata": {},
     "output_type": "execute_result"
    }
   ],
   "source": [
    "dic.clear() # 모두 지우기\n",
    "dic"
   ]
  },
  {
   "cell_type": "code",
   "execution_count": 41,
   "id": "96f92ac8-1f87-40f4-824d-6d4ddf4e4dfc",
   "metadata": {},
   "outputs": [],
   "source": [
    "dic = {'name':'pey', 'phone':'0119993323', 'birth': '1118'}"
   ]
  },
  {
   "cell_type": "code",
   "execution_count": 38,
   "id": "93e4f3fd-416b-4ba0-8c6e-fa35d59e9f78",
   "metadata": {},
   "outputs": [
    {
     "data": {
      "text/plain": [
       "'pey'"
      ]
     },
     "execution_count": 38,
     "metadata": {},
     "output_type": "execute_result"
    }
   ],
   "source": [
    "dic['name']"
   ]
  },
  {
   "cell_type": "code",
   "execution_count": 42,
   "id": "a22c9678-33ae-4ecc-9d79-e7709805da64",
   "metadata": {},
   "outputs": [],
   "source": [
    "dic.get('name1')"
   ]
  },
  {
   "cell_type": "code",
   "execution_count": 43,
   "id": "a6cb9cf6-3203-4425-83c2-7f41e8caf6e7",
   "metadata": {},
   "outputs": [
    {
     "data": {
      "text/plain": [
       "'pey'"
      ]
     },
     "execution_count": 43,
     "metadata": {},
     "output_type": "execute_result"
    }
   ],
   "source": [
    "dic.get('name')"
   ]
  },
  {
   "cell_type": "code",
   "execution_count": 44,
   "id": "a2ee0ecb-4d81-4804-8ca2-f431e04aa5e7",
   "metadata": {},
   "outputs": [
    {
     "data": {
      "text/plain": [
       "True"
      ]
     },
     "execution_count": 44,
     "metadata": {},
     "output_type": "execute_result"
    }
   ],
   "source": [
    "'name' in dic"
   ]
  },
  {
   "cell_type": "code",
   "execution_count": 45,
   "id": "64b48cea-cb77-49e3-bdfe-b2d7e1c15cea",
   "metadata": {},
   "outputs": [
    {
     "data": {
      "text/plain": [
       "True"
      ]
     },
     "execution_count": 45,
     "metadata": {},
     "output_type": "execute_result"
    }
   ],
   "source": [
    "'pey' in dic.values()"
   ]
  },
  {
   "cell_type": "markdown",
   "id": "b1be22f8-01b7-4f09-9462-ed20092e8c7d",
   "metadata": {},
   "source": [
    "# 집합 자료형{key}"
   ]
  },
  {
   "cell_type": "raw",
   "id": "56b7abb8-2ca0-4572-bc4d-24b2b113b0eb",
   "metadata": {},
   "source": [
    "중복 없이 자료를 저장할 때"
   ]
  },
  {
   "cell_type": "code",
   "execution_count": 47,
   "id": "1751532a-d5e0-476e-9ab2-0634111c6d7b",
   "metadata": {},
   "outputs": [],
   "source": [
    "a = [1,2,3,4,1,2,3,4,5]"
   ]
  },
  {
   "cell_type": "code",
   "execution_count": 50,
   "id": "42a2ed2c-9719-4ddc-80f6-4d5d174103f5",
   "metadata": {},
   "outputs": [
    {
     "data": {
      "text/plain": [
       "{1, 2, 3, 4, 5}"
      ]
     },
     "execution_count": 50,
     "metadata": {},
     "output_type": "execute_result"
    }
   ],
   "source": [
    "s1 = set(a)\n",
    "s1"
   ]
  },
  {
   "cell_type": "markdown",
   "id": "db57ec2f-3b2a-4dc0-acfd-e6f4e694ad30",
   "metadata": {},
   "source": [
    "# 집합 자료형 관련 함수"
   ]
  },
  {
   "cell_type": "code",
   "execution_count": 57,
   "id": "f07b40ec-96af-410e-8f10-44af3e69147c",
   "metadata": {},
   "outputs": [
    {
     "data": {
      "text/plain": [
       "{1, 2, 3, 4}"
      ]
     },
     "execution_count": 57,
     "metadata": {},
     "output_type": "execute_result"
    }
   ],
   "source": [
    "s1 = set([1, 2, 3])\n",
    "s1.add(4) # 값 1개 추가하기\n",
    "s1"
   ]
  },
  {
   "cell_type": "code",
   "execution_count": 54,
   "id": "ac3664b9-f1c9-4ef2-b8ea-71f5b5c5853f",
   "metadata": {},
   "outputs": [
    {
     "data": {
      "text/plain": [
       "{1, 2, 3, 4, 5, 6}"
      ]
     },
     "execution_count": 54,
     "metadata": {},
     "output_type": "execute_result"
    }
   ],
   "source": [
    "s1.update([4, 5, 6]) # 값 여러개 추가하기\n",
    "s1"
   ]
  },
  {
   "cell_type": "code",
   "execution_count": 58,
   "id": "f4dd0f6c-c5dc-4f7a-8b86-d1be68fa221c",
   "metadata": {},
   "outputs": [
    {
     "data": {
      "text/plain": [
       "{1, 3, 4}"
      ]
     },
     "execution_count": 58,
     "metadata": {},
     "output_type": "execute_result"
    }
   ],
   "source": [
    "s1.remove(2)\n",
    "s1"
   ]
  },
  {
   "cell_type": "code",
   "execution_count": null,
   "id": "dc89aef9-3d46-4d5e-ba0b-9c3399b35ef4",
   "metadata": {},
   "outputs": [],
   "source": []
  }
 ],
 "metadata": {
  "kernelspec": {
   "display_name": "Python 3 (ipykernel)",
   "language": "python",
   "name": "python3"
  },
  "language_info": {
   "codemirror_mode": {
    "name": "ipython",
    "version": 3
   },
   "file_extension": ".py",
   "mimetype": "text/x-python",
   "name": "python",
   "nbconvert_exporter": "python",
   "pygments_lexer": "ipython3",
   "version": "3.9.7"
  }
 },
 "nbformat": 4,
 "nbformat_minor": 5
}
