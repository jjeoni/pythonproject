{
 "cells": [
  {
   "cell_type": "raw",
   "id": "ad27b4c8-8b11-42a7-8d2a-ff2e82861652",
   "metadata": {},
   "source": [
    "자가졸업진단 프로그램\n",
    "\n",
    "총취득학점 130점 이상 졸업 가능\n",
    "1. 강의 추가 : {'강의명' : 학점}, 종료할 때(0)까지 수업 추가\n",
    "2. 강의 목록 : 강의명 기준으로 오름차순 정렬\n",
    "3. 강의 수정 : 강의 목록 확인 후  중복된 강의명일시 다시 입력\n",
    "4. 강의 삭제 : 강의 목록 확인 후 삭제\n",
    "5. 현재 이수학점 & 졸업여부 : 130점 이상일 경우 졸업가능, 미만일 경우 졸업 불가능\n",
    "6. 프로그램 종료 : 프로그램 종료 메세지 출력, 데이터 저장(데이터명 : graduated), 다른 숫자 입력 시 에러메세지 출력\n"
   ]
  },
  {
   "cell_type": "code",
   "execution_count": 34,
   "id": "c79f7235-f584-463b-9976-cb70a5d29eb3",
   "metadata": {},
   "outputs": [
    {
     "name": "stdin",
     "output_type": "stream",
     "text": [
      "졸업자가진단 프로그램\n",
      "    1.강의추가 2.강의목록 3.강의수정 4.강의삭제 5.현재이수학점 및 졸업가능여부 6.프로그램종료\n",
      "    선택 :  2\n"
     ]
    },
    {
     "name": "stdout",
     "output_type": "stream",
     "text": [
      "----------------------강의목록----------------------\n",
      "d : 6\n",
      "f : 2\n",
      "r : 5\n",
      "spss : 7\n",
      "파이썬 : 3\n",
      "---------------------------------------------------\n"
     ]
    },
    {
     "name": "stdin",
     "output_type": "stream",
     "text": [
      "졸업자가진단 프로그램\n",
      "    1.강의추가 2.강의목록 3.강의수정 4.강의삭제 5.현재이수학점 및 졸업가능여부 6.프로그램종료\n",
      "    선택 :  6\n"
     ]
    },
    {
     "name": "stdout",
     "output_type": "stream",
     "text": [
      "프로그램종료\n"
     ]
    }
   ],
   "source": [
    "import json\n",
    "\n",
    "f = open('graduated.json', 'r')\n",
    "lecture = json.load(f)\n",
    "f.close()\n",
    "\n",
    "# lecture={'파이썬':3}\n",
    "\n",
    "while True:\n",
    "    num = input('''졸업자가진단 프로그램\n",
    "    1.강의추가 2.강의목록 3.강의수정 4.강의삭제 5.현재이수학점 및 졸업가능여부 6.프로그램종료\n",
    "    선택 : ''')\n",
    "    \n",
    "    if num == '1':\n",
    "        while True: \n",
    "            print('수강한 강의명 : ', list(lecture.keys()))\n",
    "            name = input('추가할 강의명(종료:0) : ')\n",
    "            while name in lecture:\n",
    "                name = input('중복된 강의명입니다. 다시 입력해주세요(종료:0) : ')\n",
    "            if name == '0':\n",
    "                break\n",
    "            credit = 'a'\n",
    "            while not credit.isdecimal():\n",
    "                credit = input('추가할 강의의 학점 : ')\n",
    "            lecture[name] = int(credit)\n",
    "            print(credit, '학점의', name, '를 추가하였습니다.')\n",
    "    \n",
    "    elif num == '2':\n",
    "        print('----------------------강의목록----------------------')        \n",
    "        for item in sorted(lecture.items(), key=lambda data:data[0]):  \n",
    "            print(f'{item[0]} : {item[1]:}')\n",
    "        print('---------------------------------------------------')   \n",
    "    \n",
    "    elif num == '3':\n",
    "        print('수강한 강의명 : ', list(lecture.keys()))\n",
    "        while not name in lecture.keys():\n",
    "            name = input('수정할 강의명 : ')\n",
    "        credit = 'a'\n",
    "        while not credit.isdecimal():\n",
    "            credit = input('수정할 강의의 학점 : ')\n",
    "        lecture[name] = int(credit)\n",
    "        print(lecture)\n",
    "        \n",
    "    elif num == '4':\n",
    "        print('수강한 강의명 : ', list(lecture.keys()))\n",
    "        while not name in lecture.keys():\n",
    "            name = input('삭제할 강의명 : ')\n",
    "        del lecture[name]\n",
    "        for i in lecture.items():\n",
    "            print(f'{i[0]} : {i[1]}')\n",
    "   \n",
    "    elif num == '5':\n",
    "        total = sum(lecture.values())\n",
    "        if total >= 130:\n",
    "            print(f'이수학점이 {total}점으로 졸업이 가능합니다. 축하드립니다.')\n",
    "        else:\n",
    "            print(f'이수학점이 {total}점으로 졸업이수학점이 {130-total}점이 모자랍니다')\n",
    "    \n",
    "    elif num == '6':\n",
    "        print('프로그램종료')\n",
    "        f = open('graduated.json', 'w')\n",
    "        json.dump(lecture, f)\n",
    "        f.close()\n",
    "        break\n",
    "    \n",
    "    else:\n",
    "        print('번호 다시 입력해주세요')"
   ]
  },
  {
   "cell_type": "code",
   "execution_count": null,
   "id": "45549a2f-08ec-4625-ab30-7a284cbc9aca",
   "metadata": {},
   "outputs": [],
   "source": []
  }
 ],
 "metadata": {
  "kernelspec": {
   "display_name": "Python 3 (ipykernel)",
   "language": "python",
   "name": "python3"
  },
  "language_info": {
   "codemirror_mode": {
    "name": "ipython",
    "version": 3
   },
   "file_extension": ".py",
   "mimetype": "text/x-python",
   "name": "python",
   "nbconvert_exporter": "python",
   "pygments_lexer": "ipython3",
   "version": "3.9.7"
  }
 },
 "nbformat": 4,
 "nbformat_minor": 5
}
